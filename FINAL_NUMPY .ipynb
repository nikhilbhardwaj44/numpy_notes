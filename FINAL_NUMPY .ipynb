{
 "cells": [
  {
   "cell_type": "markdown",
   "metadata": {},
   "source": [
    "# NUMPY -NUMERICAL PYTHON                                                                                  "
   ]
  },
  {
   "cell_type": "markdown",
   "metadata": {},
   "source": [
    "NOTES BY NIKHIL SHARMA "
   ]
  },
  {
   "cell_type": "raw",
   "metadata": {},
   "source": [
    "NumPy stands for numeric python which is a python package for the computation and processing of the multidimensional and single dimensional array elements.\n"
   ]
  },
  {
   "cell_type": "raw",
   "metadata": {},
   "source": [
    "There are the following advantages of using NumPy for data analysis.\n",
    "\n",
    "NumPy performs array-oriented computing.\n",
    "It efficiently implements the multidimensional arrays.\n",
    "It performs scientific computations.\n",
    "It is capable of performing Fourier Transform and reshaping the data stored in multidimensional arrays.\n",
    "NumPy provides the in-built functions for linear algebra and random number generation."
   ]
  },
  {
   "cell_type": "code",
   "execution_count": 2,
   "metadata": {},
   "outputs": [],
   "source": [
    "import numpy as np"
   ]
  },
  {
   "cell_type": "code",
   "execution_count": 3,
   "metadata": {},
   "outputs": [
    {
     "name": "stdout",
     "output_type": "stream",
     "text": [
      "[1 2 3]\n",
      "<class 'numpy.ndarray'>\n"
     ]
    }
   ],
   "source": [
    "#i-dimensional array\n",
    "import numpy as np\n",
    "a=np.array([1,2,3])\n",
    "print(a)\n",
    "print(type(a))"
   ]
  },
  {
   "cell_type": "code",
   "execution_count": 7,
   "metadata": {},
   "outputs": [
    {
     "name": "stdout",
     "output_type": "stream",
     "text": [
      "['1' '2' '3' '4' '5' '6' 'abc']\n"
     ]
    }
   ],
   "source": [
    "#numpy contain the same elements \n",
    "l=[1,2,3,4,5,\"6\",\"abc\"]\n",
    "m=np.array(l)\n",
    "print(m)"
   ]
  },
  {
   "cell_type": "code",
   "execution_count": 7,
   "metadata": {},
   "outputs": [
    {
     "name": "stdout",
     "output_type": "stream",
     "text": [
      "ARRAY IS  [[1 2 3]\n",
      " [4 5 6]]\n",
      "THE TYPE OF ARRAYS IS: <class 'numpy.ndarray'>\n"
     ]
    }
   ],
   "source": [
    "#2d dimensional array \n",
    "import numpy as np\n",
    "a=np.array([[1,2,3],[4,5,6]])\n",
    "print(\"ARRAY IS \",a)\n",
    "print(\"THE TYPE OF ARRAYS IS:\",type(a))"
   ]
  },
  {
   "cell_type": "code",
   "execution_count": 8,
   "metadata": {},
   "outputs": [
    {
     "name": "stdout",
     "output_type": "stream",
     "text": [
      "[1 2 3 1 2 3 1 2 3]\n"
     ]
    }
   ],
   "source": [
    "a=[1,2,3]\n",
    "b=np.array(a*3)\n",
    "print(b)"
   ]
  },
  {
   "cell_type": "markdown",
   "metadata": {},
   "source": [
    "some functions\n",
    "1.np.ones()\n",
    "2.np.zeros()\n",
    "3.np.full()\n",
    "4.np.empty()"
   ]
  },
  {
   "cell_type": "code",
   "execution_count": 11,
   "metadata": {},
   "outputs": [
    {
     "name": "stdout",
     "output_type": "stream",
     "text": [
      "[1 1 1]\n"
     ]
    }
   ],
   "source": [
    "b=np.ones(3,dtype=int)\n",
    "print(b)"
   ]
  },
  {
   "cell_type": "code",
   "execution_count": 16,
   "metadata": {},
   "outputs": [
    {
     "name": "stdout",
     "output_type": "stream",
     "text": [
      "[0. 0. 0.]\n"
     ]
    }
   ],
   "source": [
    "b=np.zeros(3)\n",
    "print(b)"
   ]
  },
  {
   "cell_type": "code",
   "execution_count": 19,
   "metadata": {},
   "outputs": [
    {
     "ename": "TypeError",
     "evalue": "full() missing 1 required positional argument: 'fill_value'",
     "output_type": "error",
     "traceback": [
      "\u001b[1;31m---------------------------------------------------------------------------\u001b[0m",
      "\u001b[1;31mTypeError\u001b[0m                                 Traceback (most recent call last)",
      "\u001b[1;32m<ipython-input-19-1e05e79bb129>\u001b[0m in \u001b[0;36m<module>\u001b[1;34m\u001b[0m\n\u001b[1;32m----> 1\u001b[1;33m \u001b[0mb\u001b[0m\u001b[1;33m=\u001b[0m\u001b[0mnp\u001b[0m\u001b[1;33m.\u001b[0m\u001b[0mfull\u001b[0m\u001b[1;33m(\u001b[0m\u001b[1;36m3\u001b[0m\u001b[1;33m)\u001b[0m\u001b[1;33m\u001b[0m\u001b[1;33m\u001b[0m\u001b[0m\n\u001b[0m\u001b[0;32m      2\u001b[0m \u001b[0mprint\u001b[0m\u001b[1;33m(\u001b[0m\u001b[0mb\u001b[0m\u001b[1;33m)\u001b[0m\u001b[1;33m\u001b[0m\u001b[1;33m\u001b[0m\u001b[0m\n",
      "\u001b[1;31mTypeError\u001b[0m: full() missing 1 required positional argument: 'fill_value'"
     ]
    }
   ],
   "source": [
    "b=np.full(3)   #getting error \n",
    "print(b)"
   ]
  },
  {
   "cell_type": "code",
   "execution_count": 20,
   "metadata": {},
   "outputs": [
    {
     "name": "stdout",
     "output_type": "stream",
     "text": [
      "[[1 1 1 1 1]\n",
      " [1 1 1 1 1]\n",
      " [1 1 1 1 1]]\n"
     ]
    }
   ],
   "source": [
    "b=np.ones((3,5),dtype=int)    #3 for rows and 5 for columns \n",
    "print(b)"
   ]
  },
  {
   "cell_type": "code",
   "execution_count": 21,
   "metadata": {},
   "outputs": [
    {
     "name": "stdout",
     "output_type": "stream",
     "text": [
      "[[1 1]\n",
      " [1 1]\n",
      " [1 1]]\n"
     ]
    }
   ],
   "source": [
    "b=np.ones((3,2),dtype=int)\n",
    "print(b)"
   ]
  },
  {
   "cell_type": "markdown",
   "metadata": {},
   "source": [
    "# Finding the dimensions of the Array\n"
   ]
  },
  {
   "cell_type": "markdown",
   "metadata": {},
   "source": [
    "The ndim function can be used to find the dimensions of the array."
   ]
  },
  {
   "cell_type": "code",
   "execution_count": 22,
   "metadata": {},
   "outputs": [
    {
     "name": "stdout",
     "output_type": "stream",
     "text": [
      "3\n"
     ]
    }
   ],
   "source": [
    "import numpy as np  \n",
    "arr = np.array([[[1, 2, 3, 4], [4, 5, 6, 7], [9, 10, 11, 23]]])  \n",
    "print(arr.ndim)  "
   ]
  },
  {
   "cell_type": "code",
   "execution_count": 23,
   "metadata": {},
   "outputs": [
    {
     "name": "stdout",
     "output_type": "stream",
     "text": [
      "[1.+0.j 3.+0.j 5.+0.j 7.+0.j]\n"
     ]
    }
   ],
   "source": [
    "import numpy as np\n",
    "a=np.array([1, 3, 5, 7],complex)  \n",
    "print(a)"
   ]
  },
  {
   "cell_type": "markdown",
   "metadata": {},
   "source": [
    "Finding the size of each array element\n",
    "The itemsize function is used to get the size of each array item. It returns the number of bytes taken by each array element."
   ]
  },
  {
   "cell_type": "code",
   "execution_count": 18,
   "metadata": {},
   "outputs": [
    {
     "name": "stdout",
     "output_type": "stream",
     "text": [
      "8\n"
     ]
    }
   ],
   "source": [
    "import numpy as np\n",
    "a=np.array([[12,3],[4,5,6]])\n",
    "print(a.itemsize)"
   ]
  },
  {
   "cell_type": "markdown",
   "metadata": {},
   "source": [
    "Finding the shape and size of the array\n",
    "To get the shape and size of the array, the size and shape function associated with the numpy array is used."
   ]
  },
  {
   "cell_type": "code",
   "execution_count": 24,
   "metadata": {},
   "outputs": [
    {
     "name": "stdout",
     "output_type": "stream",
     "text": [
      "6\n",
      "(1, 6)\n"
     ]
    }
   ],
   "source": [
    "import numpy as np\n",
    "a=np.array([[1,2,3,4,5,6]])\n",
    "print(a.size)\n",
    "print(a.shape)"
   ]
  },
  {
   "cell_type": "code",
   "execution_count": 24,
   "metadata": {},
   "outputs": [
    {
     "name": "stdout",
     "output_type": "stream",
     "text": [
      "[0 1 2 3 4 5 6 7 8 9]\n"
     ]
    }
   ],
   "source": [
    "#numpy.arange([start],stop,[step],dtype=None)\n",
    "\n",
    "b=np.arange(10)\n",
    "print(b)"
   ]
  },
  {
   "cell_type": "code",
   "execution_count": 25,
   "metadata": {},
   "outputs": [
    {
     "name": "stdout",
     "output_type": "stream",
     "text": [
      "[2 3 4 5 6 7 8 9]\n"
     ]
    }
   ],
   "source": [
    "b=np.arange(2,10)\n",
    "print(b)"
   ]
  },
  {
   "cell_type": "code",
   "execution_count": 26,
   "metadata": {},
   "outputs": [
    {
     "name": "stdout",
     "output_type": "stream",
     "text": [
      "[2 4 6 8]\n"
     ]
    }
   ],
   "source": [
    "b=np.arange(2,10,2)\n",
    "print(b)"
   ]
  },
  {
   "cell_type": "raw",
   "metadata": {},
   "source": [
    "arange ---- control over steps values \n",
    "linespaces -- samples value "
   ]
  },
  {
   "cell_type": "code",
   "execution_count": 31,
   "metadata": {},
   "outputs": [
    {
     "name": "stdout",
     "output_type": "stream",
     "text": [
      "[[1 0 0]\n",
      " [0 1 0]\n",
      " [0 0 1]]\n"
     ]
    }
   ],
   "source": [
    "b=np.identity(3,dtype=int)   #IN IDENTITY WE CAN PASSED ONLY ONE ARGUMENT \n",
    "print(b)\n"
   ]
  },
  {
   "cell_type": "code",
   "execution_count": 34,
   "metadata": {},
   "outputs": [
    {
     "name": "stdout",
     "output_type": "stream",
     "text": [
      "[[1. 0.]\n",
      " [0. 1.]\n",
      " [0. 0.]]\n"
     ]
    }
   ],
   "source": [
    "b=np.eye(3,2)    #EYE CAN PASSED ONE OR MORE THAN TWO ARGUMENTS \n",
    "print(b) \n"
   ]
  },
  {
   "cell_type": "code",
   "execution_count": 35,
   "metadata": {},
   "outputs": [
    {
     "name": "stdout",
     "output_type": "stream",
     "text": [
      "[0.29910944 0.70457547 0.7163732 ]\n"
     ]
    }
   ],
   "source": [
    "b=np.random.rand(3)  #it generates random values \n",
    "print(b)"
   ]
  },
  {
   "cell_type": "code",
   "execution_count": 36,
   "metadata": {},
   "outputs": [
    {
     "name": "stdout",
     "output_type": "stream",
     "text": [
      "[[0.05116282 0.9773194  0.90861989]\n",
      " [0.30153984 0.70197519 0.20963911]]\n"
     ]
    }
   ],
   "source": [
    "b=np.random.rand(2,3)  #it generates random values \n",
    "print(b)"
   ]
  },
  {
   "cell_type": "code",
   "execution_count": 37,
   "metadata": {},
   "outputs": [
    {
     "name": "stdout",
     "output_type": "stream",
     "text": [
      "[8.87544806 1.57754431 0.84203136]\n"
     ]
    }
   ],
   "source": [
    "b=np.random.rand(3)*10 #it generates random values \n",
    "print(b)"
   ]
  },
  {
   "cell_type": "markdown",
   "metadata": {},
   "source": [
    "# Reshaping the array objects"
   ]
  },
  {
   "cell_type": "raw",
   "metadata": {},
   "source": [
    "By the shape of the array, we mean the number of rows and columns of a multi-dimensional array. \n",
    "The numpy module provides us the way to reshape the array by changing the number of rows and columns of the multi-dimensional array.\n",
    "The reshape() function associated with the ndarray object is used to reshape the array. It accepts the two parameters indicating the row and columns of the new shape of the array.\n"
   ]
  },
  {
   "cell_type": "markdown",
   "metadata": {},
   "source": [
    "<img src=\"reshape.png\">"
   ]
  },
  {
   "cell_type": "code",
   "execution_count": 39,
   "metadata": {},
   "outputs": [
    {
     "name": "stdout",
     "output_type": "stream",
     "text": [
      "printing the original array..\n",
      "[[1 2]\n",
      " [3 4]\n",
      " [5 6]]\n",
      "printing the reshaped array..\n",
      "[[1 2 3]\n",
      " [4 5 6]]\n"
     ]
    }
   ],
   "source": [
    "import numpy as np  \n",
    "a = np.array([[1,2],[3,4],[5,6]])  \n",
    "print(\"printing the original array..\")  \n",
    "print(a)\n",
    "a=a.reshape(2,3)  \n",
    "print(\"printing the reshaped array..\")  \n",
    "print(a)  "
   ]
  },
  {
   "cell_type": "markdown",
   "metadata": {},
   "source": [
    "# SLICING IN NUMPY"
   ]
  },
  {
   "cell_type": "code",
   "execution_count": 40,
   "metadata": {},
   "outputs": [
    {
     "name": "stdout",
     "output_type": "stream",
     "text": [
      "THE ORIGINAL ARRAY: [0 1 2 3 4 5 6 7 8 9]\n",
      "\n",
      "\n",
      "[2 4 6]\n",
      "[2 3 4]\n",
      "[2 3 4 5 6 7 8 9]\n"
     ]
    }
   ],
   "source": [
    "import numpy as np \n",
    "a=np.arange(10)\n",
    "print(\"THE ORIGINAL ARRAY:\",a)\n",
    "print(\"\\n\")\n",
    "print(a[2:7:2])\n",
    "print(a[2:5])\n",
    "print(a[2:])"
   ]
  },
  {
   "cell_type": "code",
   "execution_count": 41,
   "metadata": {},
   "outputs": [
    {
     "name": "stdout",
     "output_type": "stream",
     "text": [
      "THE ORIGINAL ARRAY: [0 1 2 3 4 5 6 7 8 9]\n",
      "5\n",
      "[2 4 6]\n"
     ]
    }
   ],
   "source": [
    "import numpy as np \n",
    "a=np.arange(10)\n",
    "print(\"THE ORIGINAL ARRAY:\",a)\n",
    "s=slice(2,7,2)\n",
    "c=a[5]\n",
    "print(c)\n",
    "print(a[s])"
   ]
  },
  {
   "cell_type": "markdown",
   "metadata": {},
   "source": [
    "<img src=\"slicing ex.jpg\">"
   ]
  },
  {
   "cell_type": "markdown",
   "metadata": {},
   "source": [
    "Ellipsis can also be used along with basic slicing.\n",
    "Ellipsis (…) is the number of : objects needed to make a selection tuple of\n",
    "the same length as the dimensions of the array."
   ]
  },
  {
   "cell_type": "code",
   "execution_count": 44,
   "metadata": {},
   "outputs": [
    {
     "name": "stdout",
     "output_type": "stream",
     "text": [
      "[[ 2  5]\n",
      " [ 8 11]]\n"
     ]
    }
   ],
   "source": [
    "# Python program for indexing using \n",
    "# basic slicing with ellipsis\n",
    "import numpy as np\n",
    " \n",
    "# A 3 dimensional array.\n",
    "b = np.array([[[1, 2, 3],[4, 5, 6]],\n",
    "              [[7, 8, 9],[10, 11, 12]]])\n",
    " \n",
    "print(b[...,1]) #Equivalent to b[: ,: ,1 ]"
   ]
  },
  {
   "cell_type": "code",
   "execution_count": 45,
   "metadata": {},
   "outputs": [
    {
     "name": "stdout",
     "output_type": "stream",
     "text": [
      "('re', 9, 81.)\n",
      "\n",
      "\n",
      "['re' 'fi']\n"
     ]
    }
   ],
   "source": [
    "import numpy as np\n",
    "x=np.array([('rex',9,81.0),('fido',3,27.0)],dtype=[('name','U2'),('age','i4'),('weight','f4')])\n",
    "a=x[0]\n",
    "print(a)\n",
    "print(\"\\n\")\n",
    "print(x['name'])"
   ]
  },
  {
   "cell_type": "raw",
   "metadata": {},
   "source": [
    "Linspace\n",
    "The linspace() function returns the evenly spaced values over the given interval. The following example returns the 10 evenly separated values over the given interval 5-15"
   ]
  },
  {
   "cell_type": "code",
   "execution_count": 48,
   "metadata": {},
   "outputs": [
    {
     "name": "stdout",
     "output_type": "stream",
     "text": [
      "[ 5  6  7  8  9 10 11 12 13 15]\n"
     ]
    }
   ],
   "source": [
    "import numpy as np  \n",
    "a=np.linspace(5,15,10,dtype=int) #prints 10 values which are evenly spaced over the given interval 5-15  \n",
    "print(a) "
   ]
  },
  {
   "cell_type": "markdown",
   "metadata": {},
   "source": [
    "# NumPy Array Axis"
   ]
  },
  {
   "cell_type": "markdown",
   "metadata": {},
   "source": [
    "A NumPy multi-dimensional array is represented by the axis where axis-0 represents the columns and axis-1 represents the rows. We can mention the axis to perform row-level or column-level calculations like the addition of row or column elements."
   ]
  },
  {
   "cell_type": "markdown",
   "metadata": {},
   "source": [
    "<img src=\"axis.png\">"
   ]
  },
  {
   "cell_type": "code",
   "execution_count": 51,
   "metadata": {},
   "outputs": [
    {
     "name": "stdout",
     "output_type": "stream",
     "text": [
      "The array: [[ 1  2 30]\n",
      " [10 15  4]]\n",
      "The maximum elements of columns: [10 15 30]\n",
      "The minimum element of rows [1 4]\n",
      "The sum of all rows [33 29]\n"
     ]
    }
   ],
   "source": [
    "import numpy as np  \n",
    "a = np.array([[1,2,30],[10,15,4]])  \n",
    "print(\"The array:\",a)  \n",
    "print(\"The maximum elements of columns:\",a.max(axis=0))   \n",
    "print(\"The minimum element of rows\",a.min(axis=1))  \n",
    "print(\"The sum of all rows\",a.sum(axis=1))  "
   ]
  },
  {
   "cell_type": "raw",
   "metadata": {},
   "source": [
    "Finding square root and standard deviation\n",
    "The sqrt() and std() functions associated with the numpy array are used to find the square root and standard deviation of the array elements respectively.\n",
    "\n",
    "Standard deviation means how much each element of the array varies from the mean value of the numpy array."
   ]
  },
  {
   "cell_type": "code",
   "execution_count": 54,
   "metadata": {},
   "outputs": [
    {
     "name": "stdout",
     "output_type": "stream",
     "text": [
      "[[1.         1.41421356 5.47722558]\n",
      " [3.16227766 3.87298335 2.        ]]\n",
      "10.044346115546242\n"
     ]
    }
   ],
   "source": [
    "import numpy as np  \n",
    "a = np.array([[1,2,30],[10,15,4]])  \n",
    "print(np.sqrt(a))  \n",
    "print(np.std(a))"
   ]
  },
  {
   "cell_type": "code",
   "execution_count": 56,
   "metadata": {},
   "outputs": [
    {
     "name": "stdout",
     "output_type": "stream",
     "text": [
      "Sum of array a and b\n",
      " [[ 2  4 33]\n",
      " [22 34 33]]\n",
      "Product of array a and b\n",
      " [[  1   4  90]\n",
      " [120 285 116]]\n",
      "Division of array a and b\n",
      " [[ 1.          1.         10.        ]\n",
      " [ 0.83333333  0.78947368  0.13793103]]\n"
     ]
    }
   ],
   "source": [
    "#ADDITION, MULTIPLICATION , DIVISION\n",
    "import numpy as np  \n",
    "a = np.array([[1,2,30],[10,15,4]])  \n",
    "b = np.array([[1,2,3],[12, 19, 29]])  \n",
    "print(\"Sum of array a and b\\n\",a+b)  \n",
    "print(\"Product of array a and b\\n\",a*b)  \n",
    "print(\"Division of array a and b\\n\",a/b)  "
   ]
  },
  {
   "cell_type": "markdown",
   "metadata": {},
   "source": [
    "Array Concatenation\n",
    "The numpy provides us with the vertical stacking and horizontal stacking which allows us to concatenate two multi-dimensional arrays vertically or horizontall"
   ]
  },
  {
   "cell_type": "code",
   "execution_count": 57,
   "metadata": {},
   "outputs": [
    {
     "name": "stdout",
     "output_type": "stream",
     "text": [
      "Arrays vertically concatenated\n",
      " [[ 1  2 30]\n",
      " [10 15  4]\n",
      " [ 1  2  3]\n",
      " [12 19 29]]\n",
      "Arrays horizontally concatenated\n",
      " [[ 1  2 30  1  2  3]\n",
      " [10 15  4 12 19 29]]\n"
     ]
    }
   ],
   "source": [
    "import numpy as np  \n",
    "a = np.array([[1,2,30],[10,15,4]])  \n",
    "b = np.array([[1,2,3],[12, 19, 29]])  \n",
    "print(\"Arrays vertically concatenated\\n\",np.vstack((a,b)));  \n",
    "print(\"Arrays horizontally concatenated\\n\",np.hstack((a,b)))  "
   ]
  },
  {
   "cell_type": "markdown",
   "metadata": {},
   "source": [
    "# BOOLEAN_INDEXING"
   ]
  },
  {
   "cell_type": "code",
   "execution_count": 44,
   "metadata": {},
   "outputs": [
    {
     "name": "stdout",
     "output_type": "stream",
     "text": [
      "[ 1  2  3  9 10 11]\n",
      "[ 4  5  6  7  8 20]\n"
     ]
    }
   ],
   "source": [
    "import numpy as np\n",
    "a=np.array([1,2,3,9,10,11])\n",
    "b=np.array([4,5,6,7,8,20])\n",
    "print(a)\n",
    "print(b)"
   ]
  },
  {
   "cell_type": "code",
   "execution_count": 45,
   "metadata": {},
   "outputs": [
    {
     "name": "stdout",
     "output_type": "stream",
     "text": [
      "[False False False False False  True]\n"
     ]
    }
   ],
   "source": [
    "#extract values greater than 10\n",
    "bool_arr=b>10\n",
    "print(bool_arr)"
   ]
  },
  {
   "cell_type": "code",
   "execution_count": 47,
   "metadata": {},
   "outputs": [
    {
     "data": {
      "text/plain": [
       "array([20])"
      ]
     },
     "execution_count": 47,
     "metadata": {},
     "output_type": "execute_result"
    }
   ],
   "source": [
    "new_arr=b[bool_arr]   #if we to find which value is true\n",
    "new_arr"
   ]
  },
  {
   "cell_type": "code",
   "execution_count": 50,
   "metadata": {},
   "outputs": [
    {
     "data": {
      "text/plain": [
       "array([6, 7, 8])"
      ]
     },
     "execution_count": 50,
     "metadata": {},
     "output_type": "execute_result"
    }
   ],
   "source": [
    "new_arr=b[(b>5) & (b<18)]\n",
    "new_arr"
   ]
  },
  {
   "cell_type": "code",
   "execution_count": 53,
   "metadata": {},
   "outputs": [
    {
     "data": {
      "text/plain": [
       "array([19, 19, 19,  7,  8, 20])"
      ]
     },
     "execution_count": 53,
     "metadata": {},
     "output_type": "execute_result"
    }
   ],
   "source": [
    "b[:3]=19\n",
    "b"
   ]
  },
  {
   "cell_type": "code",
   "execution_count": 55,
   "metadata": {},
   "outputs": [
    {
     "data": {
      "text/plain": [
       "array([100, 100, 100,   7,   8, 100])"
      ]
     },
     "execution_count": 55,
     "metadata": {},
     "output_type": "execute_result"
    }
   ],
   "source": [
    "b[b>18]=100    #updating the values\n",
    "b"
   ]
  },
  {
   "cell_type": "code",
   "execution_count": 59,
   "metadata": {},
   "outputs": [
    {
     "name": "stdout",
     "output_type": "stream",
     "text": [
      "[[29  1 15 25  6 14]\n",
      " [23 25 27 16 22  2]\n",
      " [28  9 19  5 16  6]\n",
      " [ 9  9  9 23 29 23]\n",
      " [11 11 26  1 15  9]]\n"
     ]
    }
   ],
   "source": [
    "#2d array \n",
    "import numpy as np\n",
    "a=np.random.randint(1,30,(5,6))\n",
    "print(a)"
   ]
  },
  {
   "cell_type": "code",
   "execution_count": 60,
   "metadata": {},
   "outputs": [
    {
     "name": "stdout",
     "output_type": "stream",
     "text": [
      "[[ True False False  True False False]\n",
      " [ True  True  True False  True False]\n",
      " [ True False False False False False]\n",
      " [False False False  True  True  True]\n",
      " [False False  True False False False]]\n"
     ]
    }
   ],
   "source": [
    "bool_arr=a>20\n",
    "print(bool_arr)"
   ]
  },
  {
   "cell_type": "code",
   "execution_count": 61,
   "metadata": {},
   "outputs": [
    {
     "name": "stdout",
     "output_type": "stream",
     "text": [
      "[29 25 23 25 27 22 28 23 29 23 26]\n"
     ]
    }
   ],
   "source": [
    "ans=a[bool_arr]\n",
    "print(ans)"
   ]
  },
  {
   "cell_type": "markdown",
   "metadata": {},
   "source": [
    "# NumPy Broadcasting"
   ]
  },
  {
   "cell_type": "code",
   "execution_count": 65,
   "metadata": {},
   "outputs": [
    {
     "name": "stdout",
     "output_type": "stream",
     "text": [
      "[ 2  8 18 32 50 72 98]\n"
     ]
    }
   ],
   "source": [
    "import numpy as np  \n",
    "a = np.array([1,2,3,4,5,6,7])  \n",
    "b = np.array([2,4,6,8,10,12,14])  \n",
    "c = a*b;  \n",
    "print(c)  "
   ]
  },
  {
   "cell_type": "code",
   "execution_count": 66,
   "metadata": {},
   "outputs": [
    {
     "ename": "ValueError",
     "evalue": "operands could not be broadcast together with shapes (7,) (8,) ",
     "output_type": "error",
     "traceback": [
      "\u001b[1;31m---------------------------------------------------------------------------\u001b[0m",
      "\u001b[1;31mValueError\u001b[0m                                Traceback (most recent call last)",
      "\u001b[1;32m<ipython-input-66-9e8a25e9ac52>\u001b[0m in \u001b[0;36m<module>\u001b[1;34m\u001b[0m\n\u001b[0;32m      2\u001b[0m \u001b[0ma\u001b[0m \u001b[1;33m=\u001b[0m \u001b[0mnp\u001b[0m\u001b[1;33m.\u001b[0m\u001b[0marray\u001b[0m\u001b[1;33m(\u001b[0m\u001b[1;33m[\u001b[0m\u001b[1;36m1\u001b[0m\u001b[1;33m,\u001b[0m\u001b[1;36m2\u001b[0m\u001b[1;33m,\u001b[0m\u001b[1;36m3\u001b[0m\u001b[1;33m,\u001b[0m\u001b[1;36m4\u001b[0m\u001b[1;33m,\u001b[0m\u001b[1;36m5\u001b[0m\u001b[1;33m,\u001b[0m\u001b[1;36m6\u001b[0m\u001b[1;33m,\u001b[0m\u001b[1;36m7\u001b[0m\u001b[1;33m]\u001b[0m\u001b[1;33m)\u001b[0m\u001b[1;33m\u001b[0m\u001b[1;33m\u001b[0m\u001b[0m\n\u001b[0;32m      3\u001b[0m \u001b[0mb\u001b[0m \u001b[1;33m=\u001b[0m \u001b[0mnp\u001b[0m\u001b[1;33m.\u001b[0m\u001b[0marray\u001b[0m\u001b[1;33m(\u001b[0m\u001b[1;33m[\u001b[0m\u001b[1;36m2\u001b[0m\u001b[1;33m,\u001b[0m\u001b[1;36m4\u001b[0m\u001b[1;33m,\u001b[0m\u001b[1;36m6\u001b[0m\u001b[1;33m,\u001b[0m\u001b[1;36m8\u001b[0m\u001b[1;33m,\u001b[0m\u001b[1;36m10\u001b[0m\u001b[1;33m,\u001b[0m\u001b[1;36m12\u001b[0m\u001b[1;33m,\u001b[0m\u001b[1;36m14\u001b[0m\u001b[1;33m,\u001b[0m\u001b[1;36m19\u001b[0m\u001b[1;33m]\u001b[0m\u001b[1;33m)\u001b[0m\u001b[1;33m\u001b[0m\u001b[1;33m\u001b[0m\u001b[0m\n\u001b[1;32m----> 4\u001b[1;33m \u001b[0mc\u001b[0m \u001b[1;33m=\u001b[0m \u001b[0ma\u001b[0m\u001b[1;33m*\u001b[0m\u001b[0mb\u001b[0m\u001b[1;33m;\u001b[0m\u001b[1;33m\u001b[0m\u001b[1;33m\u001b[0m\u001b[0m\n\u001b[0m\u001b[0;32m      5\u001b[0m \u001b[0mprint\u001b[0m\u001b[1;33m(\u001b[0m\u001b[0mc\u001b[0m\u001b[1;33m)\u001b[0m\u001b[1;33m\u001b[0m\u001b[1;33m\u001b[0m\u001b[0m\n",
      "\u001b[1;31mValueError\u001b[0m: operands could not be broadcast together with shapes (7,) (8,) "
     ]
    }
   ],
   "source": [
    "#array of different SHAPE\n",
    "import numpy as np  \n",
    "a = np.array([1,2,3,4,5,6,7])  \n",
    "b = np.array([2,4,6,8,10,12,14,19])  \n",
    "c = a*b;  \n",
    "print(c)  "
   ]
  },
  {
   "cell_type": "raw",
   "metadata": {},
   "source": [
    "Broadcasting Rules\n",
    "Broadcasting is possible if the following cases are satisfied.\n",
    "\n",
    "The smaller dimension array can be appended with '1' in its shape.\n",
    "Size of each output dimension is the maximum of the input sizes in the dimension.\n",
    "An input can be used in the calculation if its size in a particular dimension matches the output size or its value is exactly 1.\n",
    "If the input size is 1, then the first data entry is used for the calculation along the dimension.\n",
    "Broadcasting can be applied to the arrays if the following rules are satisfied.\n",
    "\n",
    "All the input arrays have the same shape.\n",
    "Arrays have the same number of dimensions, and the length of each dimension is either a common length or 1.\n",
    "Array with the fewer dimension can be appended with '1' in its shape."
   ]
  },
  {
   "cell_type": "code",
   "execution_count": 67,
   "metadata": {},
   "outputs": [
    {
     "name": "stdout",
     "output_type": "stream",
     "text": [
      "\n",
      "printing array a..\n",
      "[[ 1  2  3  4]\n",
      " [ 2  4  5  6]\n",
      " [10 20 39  3]]\n",
      "\n",
      "printing array b..\n",
      "[2 4 6 8]\n",
      "\n",
      "Adding arrays a and b ..\n",
      "[[ 3  6  9 12]\n",
      " [ 4  8 11 14]\n",
      " [12 24 45 11]]\n"
     ]
    }
   ],
   "source": [
    "import numpy as np  \n",
    "a = np.array([[1,2,3,4],[2,4,5,6],[10,20,39,3]])  \n",
    "b = np.array([2,4,6,8])  \n",
    "print(\"\\nprinting array a..\")  \n",
    "print(a)  \n",
    "print(\"\\nprinting array b..\")  \n",
    "print(b)  \n",
    "print(\"\\nAdding arrays a and b ..\")  \n",
    "c = a + b;  \n",
    "print(c)  "
   ]
  },
  {
   "cell_type": "markdown",
   "metadata": {},
   "source": [
    "<img src=\"add.png\">"
   ]
  },
  {
   "cell_type": "markdown",
   "metadata": {},
   "source": [
    "# NumPy Array Iteration"
   ]
  },
  {
   "cell_type": "code",
   "execution_count": 69,
   "metadata": {},
   "outputs": [
    {
     "name": "stdout",
     "output_type": "stream",
     "text": [
      "printing array\n",
      "[[1 2 3]\n",
      " [4 5 6]]\n",
      "1 2 3 4 5 6 "
     ]
    }
   ],
   "source": [
    "import numpy as np\n",
    "a=np.array([[1,2,3],[4,5,6]])\n",
    "print(\"printing array\")\n",
    "print(a)\n",
    "for x in np.nditer(a):\n",
    "    print(x,end=\" \")"
   ]
  },
  {
   "cell_type": "code",
   "execution_count": 67,
   "metadata": {},
   "outputs": [
    {
     "name": "stdout",
     "output_type": "stream",
     "text": [
      "Printing the array:\n",
      "[[ 1  2  3  4]\n",
      " [ 2  4  5  6]\n",
      " [10 20 39  3]]\n",
      "\n",
      "\n",
      "Printing the transpose of the array:\n",
      "[[ 1  2 10]\n",
      " [ 2  4 20]\n",
      " [ 3  5 39]\n",
      " [ 4  6  3]]\n"
     ]
    }
   ],
   "source": [
    "import numpy as np  \n",
    "a = np.array([[1,2,3,4],[2,4,5,6],[10,20,39,3]])  \n",
    "print(\"Printing the array:\")  \n",
    "print(a)  \n",
    "print(\"\\n\")\n",
    "print(\"Printing the transpose of the array:\")  \n",
    "y=np.transpose(a)\n",
    "print(y) \n"
   ]
  },
  {
   "cell_type": "code",
   "execution_count": 74,
   "metadata": {},
   "outputs": [
    {
     "name": "stdout",
     "output_type": "stream",
     "text": [
      "[ 12.  90. 123.  23.]\n"
     ]
    }
   ],
   "source": [
    "#floor mathematical function\n",
    "import numpy as np  \n",
    "arr = np.array([12.202, 90.23120, 123.020, 23.202])  \n",
    "print(np.floor(arr))  "
   ]
  },
  {
   "cell_type": "code",
   "execution_count": 75,
   "metadata": {},
   "outputs": [
    {
     "name": "stdout",
     "output_type": "stream",
     "text": [
      "[ 13.  91. 124.  24.]\n"
     ]
    }
   ],
   "source": [
    "#ceil mathematical function \n",
    "import numpy as np  \n",
    "arr = np.array([12.202, 90.23120, 123.020, 23.202])  \n",
    "print(np.ceil(arr))  "
   ]
  },
  {
   "cell_type": "markdown",
   "metadata": {},
   "source": [
    "# QUESTIONS PRACTISE  "
   ]
  },
  {
   "cell_type": "raw",
   "metadata": {},
   "source": [
    "1.\n",
    "NumPy 2D array\n",
    "Problem Statement:\n",
    "GIven a 2D list, create a numpy 2D array using it.\n",
    "Note: Given 2D list is [[1, 2, 3], [4, 5, 6], [7, 8, 9]]\n",
    "Print the Numpy array.\n",
    "Output Format :\n",
    "numpyArray"
   ]
  },
  {
   "cell_type": "code",
   "execution_count": 78,
   "metadata": {},
   "outputs": [
    {
     "name": "stdout",
     "output_type": "stream",
     "text": [
      "[[1 2 3]\n",
      " [4 5 6]\n",
      " [7 8 9]]\n"
     ]
    }
   ],
   "source": [
    "import numpy as np\n",
    "a=np.array([[1,2,3],[4,5,6],[7,8,9]])\n",
    "print(a)"
   ]
  },
  {
   "cell_type": "raw",
   "metadata": {},
   "source": [
    "Problem Statement:\n",
    "Create an integer array of size 10, where all the values should be 0 but the fifth value should be 1.\n",
    "Print the elements of array."
   ]
  },
  {
   "cell_type": "code",
   "execution_count": 82,
   "metadata": {},
   "outputs": [
    {
     "name": "stdout",
     "output_type": "stream",
     "text": [
      "[0 0 0 0 1 0 0 0 0 0]\n"
     ]
    }
   ],
   "source": [
    "import numpy as np\n",
    "a=np.zeros(10,dtype=int)\n",
    "a[4]=1\n",
    "print(a)"
   ]
  },
  {
   "cell_type": "raw",
   "metadata": {},
   "source": [
    "Problem Statement:\n",
    "Create an array with values ranging consecutively from 9 to 49 (both inclusive).\n",
    "Print the Numpy array."
   ]
  },
  {
   "cell_type": "code",
   "execution_count": 83,
   "metadata": {},
   "outputs": [
    {
     "name": "stdout",
     "output_type": "stream",
     "text": [
      "[ 9 10 11 12 13 14 15 16 17 18 19 20 21 22 23 24 25 26 27 28 29 30 31 32\n",
      " 33 34 35 36 37 38 39 40 41 42 43 44 45 46 47 48 49]\n"
     ]
    }
   ],
   "source": [
    "import numpy as np\n",
    "a=np.arange(9,50)\n",
    "print(a)"
   ]
  },
  {
   "cell_type": "raw",
   "metadata": {},
   "source": [
    "Problem Statement:\n",
    "Create an integer identity matrix of size (5, 6).\n",
    "Print the Numpy array."
   ]
  },
  {
   "cell_type": "code",
   "execution_count": 84,
   "metadata": {},
   "outputs": [
    {
     "name": "stdout",
     "output_type": "stream",
     "text": [
      "[[1 0 0 0 0 0]\n",
      " [0 1 0 0 0 0]\n",
      " [0 0 1 0 0 0]\n",
      " [0 0 0 1 0 0]\n",
      " [0 0 0 0 1 0]]\n"
     ]
    }
   ],
   "source": [
    "import numpy as np\n",
    "b=np.eye(5,6,dtype=\"int\")\n",
    "print(b)"
   ]
  },
  {
   "cell_type": "raw",
   "metadata": {},
   "source": [
    "Problem Statement:\n",
    "Given a 2D integer array size (4, 5) with name input_?\n",
    "Print elements of highlighted matrix"
   ]
  },
  {
   "cell_type": "markdown",
   "metadata": {},
   "source": [
    "<img src=\"cn.png\">\n",
    "<img src=\"c.png\">\n",
    "<img src=\"d.png\">\n",
    "<img src=\"e.png\">"
   ]
  },
  {
   "cell_type": "code",
   "execution_count": 87,
   "metadata": {},
   "outputs": [
    {
     "name": "stdout",
     "output_type": "stream",
     "text": [
      "11 12 13 \n",
      "9 14 19 \n",
      "11 12 13 14 15 16 17 18 19 20 \n",
      "7 8 12 13 "
     ]
    }
   ],
   "source": [
    "import numpy as np\n",
    "input_=np.arange(1,21,1)\n",
    "input_=input_.reshape(4,5)\n",
    "a=input_[2, :3]\n",
    "for i in a:\n",
    "   print(i,end=\" \")\n",
    "print()\n",
    "a=input_[1:4,3 ]\n",
    "for j in a:\n",
    "    print(j,end=\" \")\n",
    "print()\n",
    "c=input_[2:5, 0:5]\n",
    "for k in c:\n",
    "    for l in k:\n",
    "        print(l,end=\" \")\n",
    "print()\n",
    "d=input_[1:3, 1:3]\n",
    "for m in d:\n",
    "    for n in m:\n",
    "        print(n,end=\" \")"
   ]
  }
 ],
 "metadata": {
  "kernelspec": {
   "display_name": "Python 3",
   "language": "python",
   "name": "python3"
  },
  "language_info": {
   "codemirror_mode": {
    "name": "ipython",
    "version": 3
   },
   "file_extension": ".py",
   "mimetype": "text/x-python",
   "name": "python",
   "nbconvert_exporter": "python",
   "pygments_lexer": "ipython3",
   "version": "3.7.4"
  }
 },
 "nbformat": 4,
 "nbformat_minor": 2
}
